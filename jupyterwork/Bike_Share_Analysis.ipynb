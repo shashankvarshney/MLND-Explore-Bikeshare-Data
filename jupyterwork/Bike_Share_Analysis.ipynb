{
 "cells": [
  {
   "cell_type": "markdown",
   "metadata": {},
   "source": [
    "# 2016 US Bike Share Activity Snapshot\n",
    "\n",
    "## Table of Contents\n",
    "- [Introduction](#intro)\n",
    "- [Posing Questions](#pose_questions)\n",
    "- [Data Collection and Wrangling](#wrangling)\n",
    "  - [Condensing the Trip Data](#condensing)\n",
    "- [Exploratory Data Analysis](#eda)\n",
    "  - [Statistics](#statistics)\n",
    "  - [Visualizations](#visualizations)\n",
    "- [Performing Your Own Analysis](#eda_continued)\n",
    "- [Conclusions](#conclusions)\n",
    "\n",
    "<a id='intro'></a>\n",
    "## Introduction\n",
    "\n",
    "> **Tip**: Quoted sections like this will provide helpful instructions on how to navigate and use a Jupyter notebook.\n",
    "\n",
    "Over the past decade, bicycle-sharing systems have been growing in number and popularity in cities across the world. Bicycle-sharing systems allow users to rent bicycles for short trips, typically 30 minutes or less. Thanks to the rise in information technologies, it is easy for a user of the system to access a dock within the system to unlock or return bicycles. These technologies also provide a wealth of data that can be used to explore how these bike-sharing systems are used.\n",
    "\n",
    "In this project, you will perform an exploratory analysis on data provided by [Motivate](https://www.motivateco.com/), a bike-share system provider for many major cities in the United States. You will compare the system usage between three large cities: New York City, Chicago, and Washington, DC. You will also see if there are any differences within each system for those users that are registered, regular users and those users that are short-term, casual users."
   ]
  },
  {
   "cell_type": "markdown",
   "metadata": {},
   "source": [
    "<a id='pose_questions'></a>\n",
    "## Posing Questions\n",
    "\n",
    "Before looking at the bike sharing data, you should start by asking questions you might want to understand about the bike share data. Consider, for example, if you were working for Motivate. What kinds of information would you want to know about in order to make smarter business decisions? If you were a user of the bike-share service, what factors might influence how you would want to use the service?\n",
    "\n",
    "**Question 1**: Write at least two questions related to bike sharing that you think could be answered by data.\n",
    "\n",
    "**Answer**:\n",
    "1. What are the differet trends of bike sharing based on various factors?\n",
    "2. What could be the future trend of bike sharing?\n",
    "\n",
    "> **Tip**: If you double click on this cell, you will see the text change so that all of the formatting is removed. This allows you to edit this block of text. This block of text is written using [Markdown](http://daringfireball.net/projects/markdown/syntax), which is a way to format text using headers, links, italics, and many other options using a plain-text syntax. You will also use Markdown later in the Nanodegree program. Use **Shift** + **Enter** or **Shift** + **Return** to run the cell and show its rendered form."
   ]
  },
  {
   "cell_type": "markdown",
   "metadata": {},
   "source": [
    "<a id='wrangling'></a>\n",
    "## Data Collection and Wrangling\n",
    "\n",
    "Now it's time to collect and explore our data. In this project, we will focus on the record of individual trips taken in 2016 from our selected cities: New York City, Chicago, and Washington, DC. Each of these cities has a page where we can freely download the trip data.:\n",
    "\n",
    "- New York City (Citi Bike): [Link](https://www.citibikenyc.com/system-data)\n",
    "- Chicago (Divvy): [Link](https://www.divvybikes.com/system-data)\n",
    "- Washington, DC (Capital Bikeshare): [Link](https://www.capitalbikeshare.com/system-data)\n",
    "\n",
    "If you visit these pages, you will notice that each city has a different way of delivering its data. Chicago updates with new data twice a year, Washington DC is quarterly, and New York City is monthly. **However, you do not need to download the data yourself.** The data has already been collected for you in the `/data/` folder of the project files. While the original data for 2016 is spread among multiple files for each city, the files in the `/data/` folder collect all of the trip data for the year into one file per city. Some data wrangling of inconsistencies in timestamp format within each city has already been performed for you. In addition, a random 2% sample of the original data is taken to make the exploration more manageable. \n",
    "\n",
    "**Question 2**: However, there is still a lot of data for us to investigate, so it's a good idea to start off by looking at one entry from each of the cities we're going to analyze. Run the first code cell below to load some packages and functions that you'll be using in your analysis. Then, complete the second code cell to print out the first trip recorded from each of the cities (the second line of each data file).\n",
    "\n",
    "> **Tip**: You can run a code cell like you formatted Markdown cells above by clicking on the cell and using the keyboard shortcut **Shift** + **Enter** or **Shift** + **Return**. Alternatively, a code cell can be executed using the **Play** button in the toolbar after selecting it. While the cell is running, you will see an asterisk in the message to the left of the cell, i.e. `In [*]:`. The asterisk will change into a number to show that execution has completed, e.g. `In [1]`. If there is output, it will show up as `Out [1]:`, with an appropriate number to match the \"In\" number."
   ]
  },
  {
   "cell_type": "code",
   "execution_count": 1,
   "metadata": {},
   "outputs": [],
   "source": [
    "## import all necessary packages and functions.\n",
    "import csv # read and write csv files\n",
    "from datetime import datetime # operations to parse dates\n",
    "from pprint import pprint # use to print data structures like dictionaries in\n",
    "                          # a nicer way than the base print function.\n",
    "\n",
    "import matplotlib.pyplot as plt\n",
    "%matplotlib inline "
   ]
  },
  {
   "cell_type": "code",
   "execution_count": 2,
   "metadata": {},
   "outputs": [
    {
     "name": "stdout",
     "output_type": "stream",
     "text": [
      "\n",
      "City: NYC\n",
      "{'bikeid': '17109',\n",
      " 'birth year': '',\n",
      " 'end station id': '401',\n",
      " 'end station latitude': '40.72019576',\n",
      " 'end station longitude': '-73.98997825',\n",
      " 'end station name': 'Allen St & Rivington St',\n",
      " 'gender': '0',\n",
      " 'start station id': '532',\n",
      " 'start station latitude': '40.710451',\n",
      " 'start station longitude': '-73.960876',\n",
      " 'start station name': 'S 5 Pl & S 4 St',\n",
      " 'starttime': '1/1/2016 00:09:55',\n",
      " 'stoptime': '1/1/2016 00:23:54',\n",
      " 'tripduration': '839',\n",
      " 'usertype': 'Customer'}\n",
      "\n",
      "City: Chicago\n",
      "{'bikeid': '2295',\n",
      " 'birthyear': '1990',\n",
      " 'from_station_id': '156',\n",
      " 'from_station_name': 'Clark St & Wellington Ave',\n",
      " 'gender': 'Male',\n",
      " 'starttime': '3/31/2016 23:30',\n",
      " 'stoptime': '3/31/2016 23:46',\n",
      " 'to_station_id': '166',\n",
      " 'to_station_name': 'Ashland Ave & Wrightwood Ave',\n",
      " 'trip_id': '9080545',\n",
      " 'tripduration': '926',\n",
      " 'usertype': 'Subscriber'}\n",
      "\n",
      "City: Washington\n",
      "{'Bike number': 'W20842',\n",
      " 'Duration (ms)': '427387',\n",
      " 'End date': '3/31/2016 23:04',\n",
      " 'End station': 'Georgia Ave and Fairmont St NW',\n",
      " 'End station number': '31207',\n",
      " 'Member Type': 'Registered',\n",
      " 'Start date': '3/31/2016 22:57',\n",
      " 'Start station': 'Park Rd & Holmead Pl NW',\n",
      " 'Start station number': '31602'}\n"
     ]
    }
   ],
   "source": [
    "def print_first_point(filename):\n",
    "    \"\"\"\n",
    "    This function prints and returns the first data point (second row) from\n",
    "    a csv file that includes a header row.\n",
    "    \"\"\"\n",
    "    # print city name for reference\n",
    "    city = filename.split('-')[0].split('/')[-1]\n",
    "    print('\\nCity: {}'.format(city))\n",
    "    \n",
    "    with open(filename, 'r') as f_in:\n",
    "        ## TODO: Use the csv library to set up a DictReader object. ##\n",
    "        ## see https://docs.python.org/3/library/csv.html           ##\n",
    "        trip_reader = csv.DictReader(f_in)\n",
    "        \n",
    "        ## TODO: Use a function on the DictReader object to read the     ##\n",
    "        ## first trip from the data file and store it in a variable.     ##\n",
    "        ## see https://docs.python.org/3/library/csv.html#reader-objects ##\n",
    "        first_trip = next(trip_reader)\n",
    "        \n",
    "        ## TODO: Use the pprint library to print the first trip. ##\n",
    "        ## see https://docs.python.org/3/library/pprint.html     ##\n",
    "        pprint(first_trip)\n",
    "    # output city name and first trip for later testing\n",
    "    return (city, first_trip)\n",
    "\n",
    "# list of files for each city\n",
    "data_files = ['./data/NYC-CitiBike-2016.csv',\n",
    "              './data/Chicago-Divvy-2016.csv',\n",
    "              './data/Washington-CapitalBikeshare-2016.csv',]\n",
    "\n",
    "# print the first trip from each file, store in dictionary\n",
    "example_trips = {}\n",
    "for data_file in data_files:\n",
    "    city, first_trip = print_first_point(data_file)\n",
    "    example_trips[city] = first_trip"
   ]
  },
  {
   "cell_type": "markdown",
   "metadata": {},
   "source": [
    "If everything has been filled out correctly, you should see below the printout of each city name (which has been parsed from the data file name) that the first trip has been parsed in the form of a dictionary. When you set up a `DictReader` object, the first row of the data file is normally interpreted as column names. Every other row in the data file will use those column names as keys, as a dictionary is generated for each row.\n",
    "\n",
    "This will be useful since we can refer to quantities by an easily-understandable label instead of just a numeric index. For example, if we have a trip stored in the variable `row`, then we would rather get the trip duration from `row['duration']` instead of `row[0]`.\n",
    "\n",
    "<a id='condensing'></a>\n",
    "### Condensing the Trip Data\n",
    "\n",
    "It should also be observable from the above printout that each city provides different information. Even where the information is the same, the column names and formats are sometimes different. To make things as simple as possible when we get to the actual exploration, we should trim and clean the data. Cleaning the data makes sure that the data formats across the cities are consistent, while trimming focuses only on the parts of the data we are most interested in to make the exploration easier to work with.\n",
    "\n",
    "You will generate new data files with five values of interest for each trip: trip duration, starting month, starting hour, day of the week, and user type. Each of these may require additional wrangling depending on the city:\n",
    "\n",
    "- **Duration**: This has been given to us in seconds (New York, Chicago) or milliseconds (Washington). A more natural unit of analysis will be if all the trip durations are given in terms of minutes.\n",
    "- **Month**, **Hour**, **Day of Week**: Ridership volume is likely to change based on the season, time of day, and whether it is a weekday or weekend. Use the start time of the trip to obtain these values. The New York City data includes the seconds in their timestamps, while Washington and Chicago do not. The [`datetime`](https://docs.python.org/3/library/datetime.html) package will be very useful here to make the needed conversions.\n",
    "- **User Type**: It is possible that users who are subscribed to a bike-share system will have different patterns of use compared to users who only have temporary passes. Washington divides its users into two types: 'Registered' for users with annual, monthly, and other longer-term subscriptions, and 'Casual', for users with 24-hour, 3-day, and other short-term passes. The New York and Chicago data uses 'Subscriber' and 'Customer' for these groups, respectively. For consistency, you will convert the Washington labels to match the other two.\n",
    "\n",
    "\n",
    "**Question 3a**: Complete the helper functions in the code cells below to address each of the cleaning tasks described above."
   ]
  },
  {
   "cell_type": "code",
   "execution_count": 3,
   "metadata": {},
   "outputs": [],
   "source": [
    "def duration_in_mins(datum, city):\n",
    "    \"\"\"\n",
    "    Takes as input a dictionary containing info about a single trip (datum) and\n",
    "    its origin city (city) and returns the trip duration in units of minutes.\n",
    "    \n",
    "    Remember that Washington is in terms of milliseconds while Chicago and NYC\n",
    "    are in terms of seconds. \n",
    "    \n",
    "    HINT: The csv module reads in all of the data as strings, including numeric\n",
    "    values. You will need a function to convert the strings into an appropriate\n",
    "    numeric type when making your transformations.\n",
    "    see https://docs.python.org/3/library/functions.html\n",
    "    \"\"\"\n",
    "    \n",
    "    if city == 'Washington':\n",
    "        for j in datum :\n",
    "            if 'Duration' in j:\n",
    "                duration = float(datum[j]) / (60*1000)\n",
    "    else:\n",
    "        for j in datum:\n",
    "            if 'duration' in j:\n",
    "                duration = float(datum[j])/60\n",
    "    \n",
    "    return duration\n",
    "\n",
    "\n",
    "# Some tests to check that your code works. There should be no output if all of\n",
    "# the assertions pass. The `example_trips` dictionary was obtained from when\n",
    "# you printed the first trip from each of the original data files.\n",
    "tests = {'NYC': 13.9833,\n",
    "         'Chicago': 15.4333,\n",
    "         'Washington': 7.1231}\n",
    "\n",
    "for city in tests:\n",
    "    assert abs(duration_in_mins(example_trips[city], city) - tests[city]) < .001"
   ]
  },
  {
   "cell_type": "code",
   "execution_count": 4,
   "metadata": {},
   "outputs": [],
   "source": [
    "def time_of_trip(datum, city):\n",
    "    \"\"\"\n",
    "    Takes as input a dictionary containing info about a single trip (datum) and\n",
    "    its origin city (city) and returns the month, hour, and day of the week in\n",
    "    which the trip was made.\n",
    "    \n",
    "    Remember that NYC includes seconds, while Washington and Chicago do not.\n",
    "    \n",
    "    HINT: You should use the datetime module to parse the original date\n",
    "    strings into a format that is useful for extracting the desired information.\n",
    "    see https://docs.python.org/3/library/datetime.html#strftime-and-strptime-behavior\n",
    "    \"\"\"\n",
    "    \n",
    "    if city == 'NYC':\n",
    "        for j in datum :\n",
    "            if 'starttime' in j:\n",
    "                date = datetime.strptime(datum[j], '%m/%d/%Y %H:%M:%S')\n",
    "                month = int(datetime.strftime(date, '%m'))\n",
    "                hour = int(datetime.strftime(date, '%H'))\n",
    "                day_of_week = datetime.strftime(date, '%A')\n",
    "    else:\n",
    "        for j in datum:\n",
    "            if ('starttime' in j) or ('Start date' in j) :\n",
    "                date = datetime.strptime(datum[j], '%m/%d/%Y %H:%M')\n",
    "                month = int(datetime.strftime(date, '%m'))\n",
    "                hour = int(datetime.strftime(date, '%H'))\n",
    "                day_of_week = datetime.strftime(date, '%A')\n",
    "    \n",
    "    return (month, hour, day_of_week)\n",
    "\n",
    "\n",
    "# Some tests to check that your code works. There should be no output if all of\n",
    "# the assertions pass. The `example_trips` dictionary was obtained from when\n",
    "# you printed the first trip from each of the original data files.\n",
    "tests = {'NYC': (1, 0, 'Friday'),\n",
    "         'Chicago': (3, 23, 'Thursday'),\n",
    "         'Washington': (3, 22, 'Thursday')}\n",
    "\n",
    "for city in tests:\n",
    "    assert time_of_trip(example_trips[city], city) == tests[city]"
   ]
  },
  {
   "cell_type": "code",
   "execution_count": 5,
   "metadata": {},
   "outputs": [],
   "source": [
    "def type_of_user(datum, city):\n",
    "    \"\"\"\n",
    "    Takes as input a dictionary containing info about a single trip (datum) and\n",
    "    its origin city (city) and returns the type of system user that made the\n",
    "    trip.\n",
    "    \n",
    "    Remember that Washington has different category names compared to Chicago\n",
    "    and NYC. \n",
    "    \"\"\"\n",
    "    \n",
    "    if city == 'Washington':\n",
    "        for j in datum :\n",
    "            if 'Member Type' in j:\n",
    "                user_type = datum[j]\n",
    "                if user_type == 'Registered':\n",
    "                    user_type = 'Subscriber'\n",
    "                else :\n",
    "                    user_type = 'Customer'\n",
    "    else:\n",
    "        for j in datum:\n",
    "            if 'usertype' in j:\n",
    "                user_type = datum[j]\n",
    "    \n",
    "    return user_type\n",
    "\n",
    "\n",
    "# Some tests to check that your code works. There should be no output if all of\n",
    "# the assertions pass. The `example_trips` dictionary was obtained from when\n",
    "# you printed the first trip from each of the original data files.\n",
    "tests = {'NYC': 'Customer',\n",
    "         'Chicago': 'Subscriber',\n",
    "         'Washington': 'Subscriber'}\n",
    "\n",
    "for city in tests:\n",
    "    assert type_of_user(example_trips[city], city) == tests[city]"
   ]
  },
  {
   "cell_type": "markdown",
   "metadata": {},
   "source": [
    "**Question 3b**: Now, use the helper functions you wrote above to create a condensed data file for each city consisting only of the data fields indicated above. In the `/examples/` folder, you will see an example datafile from the [Bay Area Bike Share](http://www.bayareabikeshare.com/open-data) before and after conversion. Make sure that your output is formatted to be consistent with the example file."
   ]
  },
  {
   "cell_type": "code",
   "execution_count": 6,
   "metadata": {},
   "outputs": [],
   "source": [
    "def condense_data(in_file, out_file, city):\n",
    "    \"\"\"\n",
    "    This function takes full data from the specified input file\n",
    "    and writes the condensed data to a specified output file. The city\n",
    "    argument determines how the input file will be parsed.\n",
    "    \n",
    "    HINT: See the cell below to see how the arguments are structured!\n",
    "    \"\"\"\n",
    "    \n",
    "    with open(out_file, 'w') as f_out, open(in_file, 'r') as f_in:\n",
    "        # set up csv DictWriter object - writer requires column names for the\n",
    "        # first row as the \"fieldnames\" argument\n",
    "        out_colnames = ['duration', 'month', 'hour', 'day_of_week', 'user_type']        \n",
    "        trip_writer = csv.DictWriter(f_out, fieldnames = out_colnames)\n",
    "        trip_writer.writeheader()\n",
    "        \n",
    "        ## TODO: set up csv DictReader object ##\n",
    "        trip_reader = csv.DictReader(f_in)\n",
    "\n",
    "        # collect data from and process each row\n",
    "        for row in trip_reader:\n",
    "            # set up a dictionary to hold the values for the cleaned and trimmed\n",
    "            # data point\n",
    "            new_point = {}\n",
    "\n",
    "            ## TODO: use the helper functions to get the cleaned data from  ##\n",
    "            ## the original data dictionaries.                              ##\n",
    "            ## Note that the keys for the new_point dictionary should match ##\n",
    "            ## the column names set in the DictWriter object above.         ##\n",
    "            new_point['duration']= duration_in_mins(row, city)\n",
    "            new_point['month'], new_point['hour'], new_point['day_of_week'] = time_of_trip(row, city)\n",
    "            new_point['user_type'] = type_of_user(row, city)\n",
    "\n",
    "            ## TODO: write the processed information to the output file.     ##\n",
    "            ## see https://docs.python.org/3/library/csv.html#writer-objects ##\n",
    "            trip_writer.writerow(new_point)\n",
    "            "
   ]
  },
  {
   "cell_type": "code",
   "execution_count": 7,
   "metadata": {},
   "outputs": [
    {
     "name": "stdout",
     "output_type": "stream",
     "text": [
      "\n",
      "City: NYC\n",
      "{'day_of_week': 'Friday',\n",
      " 'duration': '13.983333333333333',\n",
      " 'hour': '0',\n",
      " 'month': '1',\n",
      " 'user_type': 'Customer'}\n",
      "\n",
      "City: Washington\n",
      "{'day_of_week': 'Thursday',\n",
      " 'duration': '7.123116666666666',\n",
      " 'hour': '22',\n",
      " 'month': '3',\n",
      " 'user_type': 'Subscriber'}\n",
      "\n",
      "City: Chicago\n",
      "{'day_of_week': 'Thursday',\n",
      " 'duration': '15.433333333333334',\n",
      " 'hour': '23',\n",
      " 'month': '3',\n",
      " 'user_type': 'Subscriber'}\n"
     ]
    }
   ],
   "source": [
    "# Run this cell to check your work\n",
    "city_info = {'Washington': {'in_file': './data/Washington-CapitalBikeshare-2016.csv',\n",
    "                            'out_file': './data/Washington-2016-Summary.csv'},\n",
    "             'Chicago': {'in_file': './data/Chicago-Divvy-2016.csv',\n",
    "                         'out_file': './data/Chicago-2016-Summary.csv'},\n",
    "             'NYC': {'in_file': './data/NYC-CitiBike-2016.csv',\n",
    "                     'out_file': './data/NYC-2016-Summary.csv'}}\n",
    "\n",
    "for city, filenames in city_info.items():\n",
    "    condense_data(filenames['in_file'], filenames['out_file'], city)\n",
    "    print_first_point(filenames['out_file'])"
   ]
  },
  {
   "cell_type": "markdown",
   "metadata": {},
   "source": [
    "> **Tip**: If you save a jupyter Notebook, the output from running code blocks will also be saved. However, the state of your workspace will be reset once a new session is started. Make sure that you run all of the necessary code blocks from your previous session to reestablish variables and functions before picking up where you last left off.\n",
    "\n",
    "<a id='eda'></a>\n",
    "## Exploratory Data Analysis\n",
    "\n",
    "Now that you have the data collected and wrangled, you're ready to start exploring the data. In this section you will write some code to compute descriptive statistics from the data. You will also be introduced to the `matplotlib` library to create some basic histograms of the data.\n",
    "\n",
    "<a id='statistics'></a>\n",
    "### Statistics\n",
    "\n",
    "First, let's compute some basic counts. The first cell below contains a function that uses the csv module to iterate through a provided data file, returning the number of trips made by subscribers and customers. The second cell runs this function on the example Bay Area data in the `/examples/` folder. Modify the cells to answer the question below.\n",
    "\n",
    "**Question 4a**: Which city has the highest number of trips? Which city has the highest proportion of trips made by subscribers? Which city has the highest proportion of trips made by short-term customers?\n",
    "\n",
    "**Answer**: \n",
    "1. Which city has the highest number of trips?  **NYC**\n",
    "2. Which city has the highest proportion of trips made by subscribers?  **NYC**\n",
    "3. Which city has the highest proportion of trips made by short-term customers?  **Chicago**"
   ]
  },
  {
   "cell_type": "code",
   "execution_count": 8,
   "metadata": {},
   "outputs": [],
   "source": [
    "def number_of_trips(filename):\n",
    "    \"\"\"\n",
    "    This function reads in a file with trip data and reports the number of\n",
    "    trips made by subscribers, customers, total overall, total trip time of subscribers and customers respectively.\n",
    "    \"\"\"\n",
    "    with open(filename, 'r') as f_in:\n",
    "        # set up csv reader object\n",
    "        reader = csv.DictReader(f_in)\n",
    "        \n",
    "        # initialize count variables\n",
    "        n_subscribers = 0\n",
    "        n_customers = 0\n",
    "        total_trip_time_subscribers = 0\n",
    "        total_trip_time_customers = 0\n",
    "        \n",
    "        # tally up ride types\n",
    "        for row in reader:\n",
    "            if row['user_type'] == 'Subscriber':\n",
    "                n_subscribers += 1\n",
    "                total_trip_time_subscribers += float(row['duration'])\n",
    "            else:\n",
    "                n_customers += 1\n",
    "                total_trip_time_customers += float(row['duration'])\n",
    "        \n",
    "        # compute total number of rides\n",
    "        n_total = n_subscribers + n_customers\n",
    "        subscriber_proportion = n_subscribers/n_total\n",
    "        customer_proportion = n_customers/n_total\n",
    "        \n",
    "        # return tallies as a tuple\n",
    "        return(n_subscribers, n_customers, n_total, subscriber_proportion, customer_proportion, \n",
    "               total_trip_time_subscribers, total_trip_time_customers)"
   ]
  },
  {
   "cell_type": "code",
   "execution_count": 9,
   "metadata": {},
   "outputs": [
    {
     "name": "stdout",
     "output_type": "stream",
     "text": [
      "(5666, 633, 6299, 0, 0, 53898.58333333338, 34530.91666666661)\n",
      "('Which city has the highest number of trips? ', 'NYC')\n",
      "('Which city has the highest proportion of trips made by subscribers? ', 'NYC')\n",
      "('Which city has the highest proportion of trips made by short-term customers? ', 'NYC')\n"
     ]
    }
   ],
   "source": [
    "## Modify this and the previous cell to answer Question 4a. Remember to run ##\n",
    "## the function on the cleaned data files you created from Question 3.      ##\n",
    "\n",
    "data_file = './examples/BayArea-Y3-Summary.csv'\n",
    "print(number_of_trips(data_file))\n",
    "\n",
    "data_file = {'Washington' : './data/Washington-2016-Summary.csv', \n",
    "            'Chicago': './data/Chicago-2016-Summary.csv', \n",
    "            'NYC': './data/NYC-2016-Summary.csv'}\n",
    "\n",
    "# Initialize three variables which are in question.\n",
    "subscribers_trips = {}\n",
    "Customers_trips = {}\n",
    "total_trips = {}\n",
    "proportion_subscriber = {}\n",
    "proportion_customer = {}\n",
    "\n",
    "# Loop to save all variables in questionFunct in a dictionary with key as city.\n",
    "for city in data_file:\n",
    "    output_number_of_trips = number_of_trips(data_file[city]) # output variable to hold the tuple returned by function.\n",
    "    subscribers_trips[city] = output_number_of_trips[0] \n",
    "    Customers_trips[city] = output_number_of_trips[1] \n",
    "    total_trips[city] = output_number_of_trips[2] \n",
    "    proportion_subscriber[city] = output_number_of_trips[3]\n",
    "    proportion_customer[city] = output_number_of_trips[4]\n",
    "    #Customers_trips[city] = number_of_trips(data_file[city])[1]\n",
    "    #total_trips[city] = number_of_trips(data_file[city])[2]\n",
    "    #proportion_subscriber[city] = number_of_trips(data_file[city])[3]\n",
    "    #proportion_customer[city] = number_of_trips(data_file[city])[4]\n",
    "    \n",
    "#print(total_trips, proportion_subscriber, proportion_customer)\n",
    "print(\"Which city has the highest number of trips? \", max(total_trips, key = total_trips.get))\n",
    "print(\"Which city has the highest proportion of trips made by subscribers? \", max(proportion_subscriber, key = proportion_subscriber.get))\n",
    "print(\"Which city has the highest proportion of trips made by short-term customers? \", max(proportion_customer, key = proportion_customer.get))\n",
    "    "
   ]
  },
  {
   "cell_type": "markdown",
   "metadata": {},
   "source": [
    "> **Tip**: In order to add additional cells to a notebook, you can use the \"Insert Cell Above\" and \"Insert Cell Below\" options from the menu bar above. There is also an icon in the toolbar for adding new cells, with additional icons for moving the cells up and down the document. By default, new cells are of the code type; you can also specify the cell type (e.g. Code or Markdown) of selected cells from the Cell menu or the dropdown in the toolbar.\n",
    "\n",
    "Now, you will write your own code to continue investigating properties of the data.\n",
    "\n",
    "**Question 4b**: Bike-share systems are designed for riders to take short trips. Most of the time, users are allowed to take trips of 30 minutes or less with no additional charges, with overage charges made for trips of longer than that duration. What is the average trip length for each city? What proportion of rides made in each city are longer than 30 minutes?\n",
    "\n",
    "**Answer**: \n",
    "1. Average ride time for Washington is 18.93287355913721.\n",
    "2. Average ride time for Chicago is 16.563629368787335.\n",
    "3. Average ride time for NYC is 15.81259299802294.\n",
    "4. proportion of rides more than 30 mins for Washington is 0.10838886711093688.\n",
    "5. proportion of rides more than 30 mins for Chicago is 0.08332062497400562.\n",
    "6. proportion of rides more than 30 mins for NYC is 0.07302437156337835."
   ]
  },
  {
   "cell_type": "code",
   "execution_count": 10,
   "metadata": {
    "scrolled": true
   },
   "outputs": [],
   "source": [
    "## Use this and additional cells to answer Question 4b.                 ##\n",
    "##                                                                      ##\n",
    "## HINT: The csv module reads in all of the data as strings, including  ##\n",
    "## numeric values. You will need a function to convert the strings      ##\n",
    "## into an appropriate numeric type before you aggregate data.          ##\n",
    "## TIP: For the Bay Area example, the average trip length is 14 minutes ##\n",
    "## and 3.5% of trips are longer than 30 minutes.                        ##\n",
    "\n",
    "def average_trip_time(filename):\n",
    "    \"\"\"\n",
    "    This function reads in a file with trip data and reports average trip time, \n",
    "    total trips more than 30 minutes and proportion of rides more than 30 minutes.\n",
    "    \"\"\"\n",
    "    trip_more_than_30_min = 0\n",
    "    total_trip_time = 0\n",
    "    total_trips = 0\n",
    "    with open(filename, 'r') as f_in:\n",
    "        # set up csv reader object\n",
    "        reader = csv.DictReader(f_in)\n",
    "        for row in reader:\n",
    "            if float(row['duration']) > 30:\n",
    "                trip_more_than_30_min += 1\n",
    "                total_trip_time += float(row['duration'])\n",
    "                total_trips += 1\n",
    "            else:\n",
    "                total_trip_time += float(row['duration'])\n",
    "                total_trips += 1\n",
    "                \n",
    "    average_trip_length = total_trip_time/total_trips\n",
    "    proportion_of_more_than_30_min = trip_more_than_30_min/total_trips\n",
    "    return(average_trip_length, proportion_of_more_than_30_min)"
   ]
  },
  {
   "cell_type": "code",
   "execution_count": 11,
   "metadata": {},
   "outputs": [
    {
     "data": {
      "text/plain": [
       "(14.038656929671422, 0)"
      ]
     },
     "execution_count": 11,
     "metadata": {},
     "output_type": "execute_result"
    }
   ],
   "source": [
    "data_file = './examples/BayArea-Y3-Summary.csv'\n",
    "average_trip_time(data_file)\n"
   ]
  },
  {
   "cell_type": "code",
   "execution_count": 12,
   "metadata": {},
   "outputs": [
    {
     "name": "stdout",
     "output_type": "stream",
     "text": [
      "Average ride time for NYC is 15.812592998.\n",
      "Average ride time for Washington is 18.9328735591.\n",
      "Average ride time for Chicago is 16.5636293688.\n",
      "proportion of rides more than 30 mins for NYC is 0.\n",
      "proportion of rides more than 30 mins for Washington is 0.\n",
      "proportion of rides more than 30 mins for Chicago is 0.\n"
     ]
    }
   ],
   "source": [
    "# Calculation of ride time and proportion of riders with more than 30 mins of ride time.\n",
    "\n",
    "# Dictionary of files variable.\n",
    "data_file = {'Washington' : './data/Washington-2016-Summary.csv', \n",
    "            'Chicago': './data/Chicago-2016-Summary.csv', \n",
    "            'NYC': './data/NYC-2016-Summary.csv'}\n",
    "\n",
    "# Initialize three variables which are in question.\n",
    "average_ride_time = {}\n",
    "proportion_of_more_than_30_mins = {}\n",
    "\n",
    "# Loop to save all variables in question in a dictionary with key as city.\n",
    "for city in data_file:\n",
    "    average_ride_time[city], proportion_of_more_than_30_mins[city] = average_trip_time(data_file[city])\n",
    "    #proportion_of_more_than_30_mins[city] = average_trip_time(data_file[city])[1]\n",
    "\n",
    "#Printing the output\n",
    "for city in average_ride_time:\n",
    "    print(\"Average ride time for {} is {}.\".format(city, average_ride_time[city]))\n",
    "\n",
    "for city in proportion_of_more_than_30_mins:\n",
    "    print(\"proportion of rides more than 30 mins for {} is {}.\".format(city, proportion_of_more_than_30_mins[city]))"
   ]
  },
  {
   "cell_type": "markdown",
   "metadata": {},
   "source": [
    "**Question 4c**: Dig deeper into the question of trip duration based on ridership. Choose one city. Within that city, which type of user takes longer rides on average: Subscribers or Customers?\n",
    "\n",
    "**Answer**:\n",
    "1. City ***Washington*** was chosen and it was found out that customers take longer ride on average in *** Washington***."
   ]
  },
  {
   "cell_type": "code",
   "execution_count": 13,
   "metadata": {},
   "outputs": [
    {
     "name": "stdout",
     "output_type": "stream",
     "text": [
      "(9.512633839275217, 54.55121116377032)\n"
     ]
    }
   ],
   "source": [
    "## Use this and additional cells to answer Question 4c. If you have    ##\n",
    "## not done so yet, consider revising some of your previous code to    ##\n",
    "## make use of functions for reusability.                              ##\n",
    "##                                                                     ##\n",
    "## TIP: For the Bay Area example data, you should find the average     ##\n",
    "## Subscriber trip duration to be 9.5 minutes and the average Customer ##\n",
    "## trip duration to be 54.6 minutes. Do the other cities have this     ##\n",
    "## level of difference?                                                ##\n",
    "data_file = './examples/BayArea-Y3-Summary.csv'\n",
    "\n",
    "\"\"\"total_trip_time_subscribers = number_of_trips(data_file)[5]\n",
    "total_trip_time_customers = number_of_trips(data_file)[6]\n",
    "n_subscribers =  number_of_trips(data_file)[0]\n",
    "n_customers = number_of_trips(data_file)[1]\"\"\"\n",
    "\n",
    "output_number_of_trips = number_of_trips(data_file) # Variable to store output tuple of the function.\n",
    "average_subscriber_trip_duration = output_number_of_trips[5]/output_number_of_trips[0]\n",
    "average_customer_trip_duration = output_number_of_trips[6]/output_number_of_trips[1]\n",
    "print(average_subscriber_trip_duration, average_customer_trip_duration)\n"
   ]
  },
  {
   "cell_type": "code",
   "execution_count": 14,
   "metadata": {},
   "outputs": [
    {
     "name": "stdout",
     "output_type": "stream",
     "text": [
      "customers take longer ride on average\n"
     ]
    }
   ],
   "source": [
    "data_file = './data/Washington-2016-Summary.csv'\n",
    "\n",
    "output_number_of_trips = number_of_trips(data_file) # Variable to store output tuple of number_of_trips function.\n",
    "average_subscriber_trip_duration = output_number_of_trips[5]/output_number_of_trips[0]\n",
    "average_customer_trip_duration = output_number_of_trips[6]/output_number_of_trips[1]\n",
    "\n",
    "if average_subscriber_trip_duration > average_customer_trip_duration:\n",
    "    print(\"subscribers take longer ride on average\")\n",
    "else:\n",
    "    print(\"customers take longer ride on average\")"
   ]
  },
  {
   "cell_type": "markdown",
   "metadata": {},
   "source": [
    "<a id='visualizations'></a>\n",
    "### Visualizations\n",
    "\n",
    "The last set of values that you computed should have pulled up an interesting result. While the mean trip time for Subscribers is well under 30 minutes, the mean trip time for Customers is actually _above_ 30 minutes! It will be interesting for us to look at how the trip times are distributed. In order to do this, a new library will be introduced here, `matplotlib`. Run the cell below to load the library and to generate an example plot."
   ]
  },
  {
   "cell_type": "code",
   "execution_count": 15,
   "metadata": {},
   "outputs": [
    {
     "data": {
      "image/png": "[encoded data removed]",
      "text/plain": [
       "<Figure size 432x288 with 1 Axes>"
      ]
     },
     "metadata": {},
     "output_type": "display_data"
    }
   ],
   "source": [
    "# load library\n",
    "import matplotlib.pyplot as plt\n",
    "\n",
    "# this is a 'magic word' that allows for plots to be displayed\n",
    "# inline with the notebook. If you want to know more, see:\n",
    "# http://ipython.readthedocs.io/en/stable/interactive/magics.html\n",
    "%matplotlib inline \n",
    "\n",
    "# example histogram, data taken from bay area sample\n",
    "data = [ 7.65,  8.92,  7.42,  5.50, 16.17,  4.20,  8.98,  9.62, 11.48, 14.33,\n",
    "        19.02, 21.53,  3.90,  7.97,  2.62,  2.67,  3.08, 14.40, 12.90,  7.83,\n",
    "        25.12,  8.30,  4.93, 12.43, 10.60,  6.17, 10.88,  4.78, 15.15,  3.53,\n",
    "         9.43, 13.32, 11.72,  9.85,  5.22, 15.10,  3.95,  3.17,  8.78,  1.88,\n",
    "         4.55, 12.68, 12.38,  9.78,  7.63,  6.45, 17.38, 11.90, 11.52,  8.63,]\n",
    "plt.hist(data)\n",
    "plt.title('Distribution of Trip Durations')\n",
    "plt.xlabel('Duration (m)')\n",
    "plt.show()"
   ]
  },
  {
   "cell_type": "markdown",
   "metadata": {},
   "source": [
    "In the above cell, we collected fifty trip times in a list, and passed this list as the first argument to the `.hist()` function. This function performs the computations and creates plotting objects for generating a histogram, but the plot is actually not rendered until the `.show()` function is executed. The `.title()` and `.xlabel()` functions provide some labeling for plot context.\n",
    "\n",
    "You will now use these functions to create a histogram of the trip times for the city you selected in question 4c. Don't separate the Subscribers and Customers for now: just collect all of the trip times and plot them."
   ]
  },
  {
   "cell_type": "code",
   "execution_count": 16,
   "metadata": {},
   "outputs": [],
   "source": [
    "## Use this and additional cells to collect all of the trip times as a list ##\n",
    "## and then use pyplot functions to generate a histogram of trip times.     ##\n",
    "\n",
    "def list_of_trip_time(filename):\n",
    "    \"\"\"\n",
    "    This function reads in a file with trip data and reports a list of all\n",
    "    trip time\n",
    "    \"\"\"\n",
    "    trip_time_list = []\n",
    "    with open(filename, 'r') as f_in:\n",
    "        # set up csv reader object\n",
    "        reader = csv.DictReader(f_in)\n",
    "        for row in reader:\n",
    "            trip_time_list.append(float(row['duration']))\n",
    "    return(trip_time_list)"
   ]
  },
  {
   "cell_type": "code",
   "execution_count": 27,
   "metadata": {},
   "outputs": [
    {
     "data": {
      "image/png": "[encoded data removed]",
      "text/plain": [
       "<Figure size 432x288 with 1 Axes>"
      ]
     },
     "metadata": {},
     "output_type": "display_data"
    }
   ],
   "source": [
    "# This will plot a histogram of all trips\n",
    "\n",
    "# import library\n",
    "import matplotlib.pyplot as plt\n",
    "%matplotlib inline \n",
    "\n",
    "# Use one data file and call the function.\n",
    "data_file = './data/Washington-2016-Summary.csv'\n",
    "trip_time_list = list_of_trip_time(data_file)\n",
    "\n",
    "# Plot histogram\n",
    "plt.hist(trip_time_list)\n",
    "plt.title('Distribution of Trip Durations')\n",
    "plt.xlabel('Duration (m)')\n",
    "plt.savefig(\"Washington_histogram_with_outliers.png\")\n",
    "plt.show()"
   ]
  },
  {
   "cell_type": "markdown",
   "metadata": {},
   "source": [
    "If you followed the use of the `.hist()` and `.show()` functions exactly like in the example, you're probably looking at a plot that's completely unexpected. The plot consists of one extremely tall bar on the left, maybe a very short second bar, and a whole lot of empty space in the center and right. Take a look at the duration values on the x-axis. This suggests that there are some highly infrequent outliers in the data. Instead of reprocessing the data, you will use additional parameters with the `.hist()` function to limit the range of data that is plotted. Documentation for the function can be found [[here]](https://matplotlib.org/devdocs/api/_as_gen/matplotlib.pyplot.hist.html#matplotlib.pyplot.hist).\n",
    "\n",
    "**Question 5**: Use the parameters of the `.hist()` function to plot the distribution of trip times for the Subscribers in your selected city. Do the same thing for only the Customers. Add limits to the plots so that only trips of duration less than 75 minutes are plotted. As a bonus, set the plots up so that bars are in five-minute wide intervals. For each group, where is the peak of each distribution? How would you describe the shape of each distribution?\n",
    "\n",
    "**Answer**: \n",
    "1. where is the peak of each distribution? ***Both graphs, that is, subscriber's trip duration and customer's trip duration, are unimodal. Subscriber's graph has peak value of 17500 which is for duration between 5 to 10 minutes ride. So this denotes most of the rides taken by subscribers are between 5 to 10 minutes. Customer's peak ride count is just less than 2000 which is for 15 to 20 minutes which denotes that 15 to 20 minutes rides are the most taken by customers.***\n",
    "2. How would you describe the shape of each distribution? ***Both distributions are right skewed as we can see tail in right side of the histogram. Subscribers have less spreaded histogram as compared to customer. Customers have thick tail as compaared to subscribers thin tail which denotes that customers have lot of significant number of users more than 35 minutes of ride time as comapred to peak but subscribers have very less number of count for users who have more than 30 minutes of ride time.***"
   ]
  },
  {
   "cell_type": "code",
   "execution_count": 18,
   "metadata": {},
   "outputs": [],
   "source": [
    "## Use this and additional cells to answer Question 5. ##\n",
    "\n",
    "def list_of_trip_time_customers_subscribers(filename):\n",
    "    \"\"\"\n",
    "    This function reads in a file with trip data and reports a list of all\n",
    "    trip time for customers\n",
    "    \"\"\"\n",
    "    trip_time_list_customer = []\n",
    "    trip_time_list_subscriber = []\n",
    "    with open(filename, 'r') as f_in:\n",
    "        # set up csv reader object\n",
    "        reader = csv.DictReader(f_in)\n",
    "        for row in reader:\n",
    "            if row['user_type'] == 'Customer':\n",
    "                trip_time_list_customer.append(float(row['duration']))\n",
    "            else:\n",
    "                trip_time_list_subscriber.append(float(row['duration']))\n",
    "    return(trip_time_list_customer, trip_time_list_subscriber)\n",
    "\n"
   ]
  },
  {
   "cell_type": "code",
   "execution_count": 28,
   "metadata": {},
   "outputs": [
    {
     "data": {
      "image/png": "[encoded data removed]",
      "text/plain": [
       "<Figure size 432x288 with 1 Axes>"
      ]
     },
     "metadata": {},
     "output_type": "display_data"
    },
    {
     "data": {
      "image/png": "[encoded data removed]",
      "text/plain": [
       "<Figure size 432x288 with 1 Axes>"
      ]
     },
     "metadata": {},
     "output_type": "display_data"
    }
   ],
   "source": [
    "# This will plot a histogram of all trips taken by Customers\n",
    "\n",
    "# import library\n",
    "import matplotlib.pyplot as plt\n",
    "%matplotlib inline \n",
    "\n",
    "# Use one data file and call the function.\n",
    "data_file = './data/Washington-2016-Summary.csv'\n",
    "trip_time_list = list_of_trip_time_customers_subscribers(data_file)\n",
    "\n",
    "# Plot histogram\n",
    "plt.hist(trip_time_list[0], range= (0, 74), bins = 15)\n",
    "plt.title('Distribution of Trip Durations taken by Customers')\n",
    "plt.xlabel('Duration (m)')\n",
    "plt.savefig(\"Washington_Customers_histogram.png\")\n",
    "plt.show()\n",
    "\n",
    "plt.hist(trip_time_list[1], range= (0, 74), bins = 15)\n",
    "plt.title('Distribution of Trip Durations taken by Subscribers')\n",
    "plt.xlabel('Duration (m)')\n",
    "plt.savefig(\"Washington_Subscribers_histogram.png\")\n",
    "plt.show()"
   ]
  },
  {
   "cell_type": "markdown",
   "metadata": {
    "collapsed": true
   },
   "source": [
    "<a id='eda_continued'></a>\n",
    "## Performing Your Own Analysis\n",
    "\n",
    "So far, you've performed an initial exploration into the data available. You have compared the relative volume of trips made between three U.S. cities and the ratio of trips made by Subscribers and Customers. For one of these cities, you have investigated differences between Subscribers and Customers in terms of how long a typical trip lasts. Now it is your turn to continue the exploration in a direction that you choose. Here are a few suggestions for questions to explore:\n",
    "\n",
    "- How does ridership differ by month or season? Which month / season has the highest ridership? Does the ratio of Subscriber trips to Customer trips change depending on the month or season?\n",
    "- Is the pattern of ridership different on the weekends versus weekdays? On what days are Subscribers most likely to use the system? What about Customers? Does the average duration of rides change depending on the day of the week?\n",
    "- During what time of day is the system used the most? Is there a difference in usage patterns for Subscribers and Customers?\n",
    "\n",
    "If any of the questions you posed in your answer to question 1 align with the bullet points above, this is a good opportunity to investigate one of them. As part of your investigation, you will need to create a visualization. If you want to create something other than a histogram, then you might want to consult the [Pyplot documentation](https://matplotlib.org/devdocs/api/pyplot_summary.html). In particular, if you are plotting values across a categorical variable (e.g. city, user type), a bar chart will be useful. The [documentation page for `.bar()`](https://matplotlib.org/devdocs/api/_as_gen/matplotlib.pyplot.bar.html#matplotlib.pyplot.bar) includes links at the bottom of the page with examples for you to build off of for your own use.\n",
    "\n",
    "**Question 6**: Continue the investigation by exploring another question that could be answered by the data available. Document the question you want to explore below. Your investigation should involve at least two variables and should compare at least two groups. You should also use at least one visualization as part of your explorations.\n",
    "***I have chosen monthly variation among total rides and total ride time among subscriber and customer.***\n",
    "\n",
    "**Answer**: \n",
    "1. Total peak ride time in the month of June and July and Dec, Jan and Feb months have comparatively lower ride times.\n",
    "2. Total monthly ride time for subscribers are at peak in June and least in January.\n",
    "3. Proportion of subscriber ride count to total count is decreasing from January to july and then start increasing after that till January.\n",
    "4. Proportion of customer ride count to total count is behaving opposite to that of subscriber , that is, increasing from January to july and then start decreasing after that till January.\n",
    "5. Monthly total trip count is increasing from january to June/July and then start decreasing till January.\n",
    "6. Line plot for total ride time for every month is also plotted which is showing similar pattern as that in bar plot.\n",
    "7. Box plot for the list of trips duration taken in every month is plotted. It has been found that lot of outliers are there in the box plot. Limit of y axis was changed to 0 to 50 to see box plot properly and it was found that median is decreasing from January to March and then start increasing till August and then again start Decreasing till october and then increasing till January. So Mis of the year from May to Sepetember has higher median than any other month of the year."
   ]
  },
  {
   "cell_type": "code",
   "execution_count": 20,
   "metadata": {},
   "outputs": [],
   "source": [
    "## Use this and additional cells to continue to explore the dataset. ##\n",
    "## Once you have performed your exploration, document your findings  ##\n",
    "## in the Markdown cell above. ##\n",
    "\n",
    "def ridership_by_month(filename):\n",
    "    \"\"\"This function gives total trip time for each month and \n",
    "    total trip time for each type of users per month and \n",
    "    also ratio subscribers trips or customer trips per month\"\"\"\n",
    "    total_trip_time = [0]*12\n",
    "    total_trip_time_subscribers = [0]*12\n",
    "    total_trip_time_customers = [0]*12\n",
    "    total_trip_count = [0]*12\n",
    "    total_trip_count_subscribers = [0]*12\n",
    "    total_trip_count_customers = [0]*12\n",
    "    trip_list_month_wise = {}\n",
    "    \n",
    "    with open(filename, 'r') as f_in:\n",
    "        reader = csv.DictReader(f_in)\n",
    "        for row in reader:\n",
    "            for month_number in range(1, 13):\n",
    "                if row['month'] == str(month_number) and row['user_type'] == 'Subscriber':\n",
    "                    total_trip_time[month_number-1] += float(row['duration'])\n",
    "                    total_trip_time_subscribers[month_number-1] += float(row['duration'])\n",
    "                    total_trip_count[month_number-1] += 1\n",
    "                    total_trip_count_subscribers[month_number-1] += 1\n",
    "                    trip_list_month_wise.setdefault(month_number, []).append(float(row['duration']))\n",
    "                elif row['month'] == str(month_number) and row['user_type'] == 'Customer':\n",
    "                    total_trip_time[month_number-1] += float(row['duration'])\n",
    "                    total_trip_time_customers[month_number-1] += float(row['duration'])\n",
    "                    total_trip_count[month_number-1] += 1\n",
    "                    total_trip_count_customers[month_number-1] += 1\n",
    "                    trip_list_month_wise.setdefault(month_number, []).append(float(row['duration']))\n",
    "        return(total_trip_time, total_trip_time_subscribers, total_trip_time_customers, \n",
    "              total_trip_count, total_trip_count_subscribers, total_trip_count_customers, \n",
    "              trip_list_month_wise)\n"
   ]
  },
  {
   "cell_type": "code",
   "execution_count": 21,
   "metadata": {},
   "outputs": [
    {
     "data": {
      "text/plain": [
       "\"def ridership_by_month_if(filename):\\n    #This function gives total trip time for each month and \\n    #total trip time for each type of users per month and \\n    #also ratio subscribers trips or customer trips per month\\n    total_trip_time = [0]*12\\n    total_trip_time_subscribers = [0]*12\\n    total_trip_time_customers = [0]*12\\n    total_trip_count = [0]*12\\n    total_trip_count_subscribers = [0]*12\\n    total_trip_count_customers = [0]*12\\n    \\n    with open(filename, 'r') as f_in:\\n        reader = csv.DictReader(f_in)\\n        for row in reader:\\n            if row['month'] == '1' and row['user_type'] == 'Subscriber':\\n                total_trip_time[int(row['month'])-1] += float(row['duration'])\\n                total_trip_time_subscribers[int(row['month'])-1] += float(row['duration'])\\n                total_trip_count[int(row['month'])-1] += 1\\n                total_trip_count_subscribers[int(row['month'])-1] += 1\\n            elif row['month'] == '2' and row['user_type'] == 'Subscriber':\\n                total_trip_time[int(row['month'])-1] += float(row['duration'])\\n                total_trip_time_subscribers[int(row['month'])-1] += float(row['duration'])\\n                total_trip_count[int(row['month'])-1] += 1\\n                total_trip_count_subscribers[int(row['month'])-1] += 1\\n            elif row['month'] == '3' and row['user_type'] == 'Subscriber':\\n                total_trip_time[int(row['month'])-1] += float(row['duration'])\\n                total_trip_time_subscribers[int(row['month'])-1] += float(row['duration'])\\n                total_trip_count[int(row['month'])-1] += 1\\n                total_trip_count_subscribers[int(row['month'])-1] += 1\\n            elif row['month'] == '4' and row['user_type'] == 'Subscriber':\\n                total_trip_time[int(row['month'])-1] += float(row['duration'])\\n                total_trip_time_subscribers[int(row['month'])-1] += float(row['duration'])\\n                total_trip_count[int(row['month'])-1] += 1\\n                total_trip_count_subscribers[int(row['month'])-1] += 1\\n            elif row['month'] == '5' and row['user_type'] == 'Subscriber':\\n                total_trip_time[int(row['month'])-1] += float(row['duration'])\\n                total_trip_time_subscribers[int(row['month'])-1] += float(row['duration'])\\n                total_trip_count[int(row['month'])-1] += 1\\n                total_trip_count_subscribers[int(row['month'])-1] += 1\\n            elif row['month'] == '6' and row['user_type'] == 'Subscriber':\\n                total_trip_time[int(row['month'])-1] += float(row['duration'])\\n                total_trip_time_subscribers[int(row['month'])-1] += float(row['duration'])\\n                total_trip_count[int(row['month'])-1] += 1\\n                total_trip_count_subscribers[int(row['month'])-1] += 1\\n            elif row['month'] == '7' and row['user_type'] == 'Subscriber':\\n                total_trip_time[int(row['month'])-1] += float(row['duration'])\\n                total_trip_time_subscribers[int(row['month'])-1] += float(row['duration'])\\n                total_trip_count[int(row['month'])-1] += 1\\n                total_trip_count_subscribers[int(row['month'])-1] += 1\\n            elif row['month'] == '8' and row['user_type'] == 'Subscriber':\\n                total_trip_time[int(row['month'])-1] += float(row['duration'])\\n                total_trip_time_subscribers[int(row['month'])-1] += float(row['duration'])\\n                total_trip_count[int(row['month'])-1] += 1\\n                total_trip_count_subscribers[int(row['month'])-1] += 1\\n            elif row['month'] == '9' and row['user_type'] == 'Subscriber':\\n                total_trip_time[int(row['month'])-1] += float(row['duration'])\\n                total_trip_time_subscribers[int(row['month'])-1] += float(row['duration'])\\n                total_trip_count[int(row['month'])-1] += 1\\n                total_trip_count_subscribers[int(row['month'])-1] += 1\\n            elif row['month'] == '10' and row['user_type'] == 'Subscriber':\\n                total_trip_time[int(row['month'])-1] += float(row['duration'])\\n                total_trip_time_subscribers[int(row['month'])-1] += float(row['duration'])\\n                total_trip_count[int(row['month'])-1] += 1\\n                total_trip_count_subscribers[int(row['month'])-1] += 1\\n            elif row['month'] == '11' and row['user_type'] == 'Subscriber':\\n                total_trip_time[int(row['month'])-1] += float(row['duration'])\\n                total_trip_time_subscribers[int(row['month'])-1] += float(row['duration'])\\n                total_trip_count[int(row['month'])-1] += 1\\n                total_trip_count_subscribers[int(row['month'])-1] += 1\\n            elif row['month'] == '12' and row['user_type'] == 'Subscriber':\\n                total_trip_time[int(row['month'])-1] += float(row['duration'])\\n                total_trip_time_subscribers[int(row['month'])-1] += float(row['duration'])\\n                total_trip_count[int(row['month'])-1] += 1\\n                total_trip_count_subscribers[int(row['month'])-1] += 1\\n            elif row['month'] == '1' and row['user_type'] == 'Customer':\\n                total_trip_time[int(row['month'])-1] += float(row['duration'])\\n                total_trip_time_customers[int(row['month'])-1] += float(row['duration'])\\n                total_trip_count[int(row['month'])-1] += 1\\n                total_trip_count_customers[int(row['month'])-1] += 1\\n            elif row['month'] == '2' and row['user_type'] == 'Customer':\\n                total_trip_time[int(row['month'])-1] += float(row['duration'])\\n                total_trip_time_customers[int(row['month'])-1] += float(row['duration'])\\n                total_trip_count[int(row['month'])-1] += 1\\n                total_trip_count_customers[int(row['month'])-1] += 1\\n            elif row['month'] == '3' and row['user_type'] == 'Customer':\\n                total_trip_time[int(row['month'])-1] += float(row['duration'])\\n                total_trip_time_customers[int(row['month'])-1] += float(row['duration'])\\n                total_trip_count[int(row['month'])-1] += 1\\n                total_trip_count_customers[int(row['month'])-1] += 1\\n            elif row['month'] == '4' and row['user_type'] == 'Customer':\\n                total_trip_time[int(row['month'])-1] += float(row['duration'])\\n                total_trip_time_customers[int(row['month'])-1] += float(row['duration'])\\n                total_trip_count[int(row['month'])-1] += 1\\n                total_trip_count_customers[int(row['month'])-1] += 1\\n            elif row['month'] == '5' and row['user_type'] == 'Customer':\\n                total_trip_time[int(row['month'])-1] += float(row['duration'])\\n                total_trip_time_customers[int(row['month'])-1] += float(row['duration'])\\n                total_trip_count[int(row['month'])-1] += 1\\n                total_trip_count_customers[int(row['month'])-1] += 1\\n            elif row['month'] == '6' and row['user_type'] == 'Customer':\\n                total_trip_time[int(row['month'])-1] += float(row['duration'])\\n                total_trip_time_customers[int(row['month'])-1] += float(row['duration'])\\n                total_trip_count[int(row['month'])-1] += 1\\n                total_trip_count_customers[int(row['month'])-1] += 1\\n            elif row['month'] == '7' and row['user_type'] == 'Customer':\\n                total_trip_time[int(row['month'])-1] += float(row['duration'])\\n                total_trip_time_customers[int(row['month'])-1] += float(row['duration'])\\n                total_trip_count[int(row['month'])-1] += 1\\n                total_trip_count_customers[int(row['month'])-1] += 1\\n            elif row['month'] == '8' and row['user_type'] == 'Customer':\\n                total_trip_time[int(row['month'])-1] += float(row['duration'])\\n                total_trip_time_customers[int(row['month'])-1] += float(row['duration'])\\n                total_trip_count[int(row['month'])-1] += 1\\n                total_trip_count_customers[int(row['month'])-1] += 1\\n            elif row['month'] == '9' and row['user_type'] == 'Customer':\\n                total_trip_time[int(row['month'])-1] += float(row['duration'])\\n                total_trip_time_customers[int(row['month'])-1] += float(row['duration'])\\n                total_trip_count[int(row['month'])-1] += 1\\n                total_trip_count_customers[int(row['month'])-1] += 1\\n            elif row['month'] == '10' and row['user_type'] == 'Customer':\\n                total_trip_time[int(row['month'])-1] += float(row['duration'])\\n                total_trip_time_customers[int(row['month'])-1] += float(row['duration'])\\n                total_trip_count[int(row['month'])-1] += 1\\n                total_trip_count_customers[int(row['month'])-1] += 1\\n            elif row['month'] == '11' and row['user_type'] == 'Customer':\\n                total_trip_time[int(row['month'])-1] += float(row['duration'])\\n                total_trip_time_customers[int(row['month'])-1] += float(float(row['duration']))\\n                total_trip_count[int(row['month'])-1] += 1\\n                total_trip_count_customers[int(row['month'])-1] += 1\\n            elif row['month'] == '12' and row['user_type'] == 'Customer':\\n                total_trip_time[int(row['month'])-1] += float(row['duration'])\\n                total_trip_time_customers[int(row['month'])-1] += float(row['duration'])\\n                total_trip_count[int(row['month'])-1] += 1\\n                total_trip_count_customers[int(row['month'])-1] += 1\\n                \\n                \\n        return(total_trip_time, total_trip_time_subscribers, total_trip_time_customers, \\n              total_trip_count, total_trip_count_subscribers, total_trip_count_customers)\\n              \""
      ]
     },
     "execution_count": 21,
     "metadata": {},
     "output_type": "execute_result"
    }
   ],
   "source": [
    "# This is another way to write above mentioned function with less time consumption\n",
    "\n",
    "\"\"\"def ridership_by_month_if(filename):\n",
    "    #This function gives total trip time for each month and \n",
    "    #total trip time for each type of users per month and \n",
    "    #also ratio subscribers trips or customer trips per month\n",
    "    total_trip_time = [0]*12\n",
    "    total_trip_time_subscribers = [0]*12\n",
    "    total_trip_time_customers = [0]*12\n",
    "    total_trip_count = [0]*12\n",
    "    total_trip_count_subscribers = [0]*12\n",
    "    total_trip_count_customers = [0]*12\n",
    "    \n",
    "    with open(filename, 'r') as f_in:\n",
    "        reader = csv.DictReader(f_in)\n",
    "        for row in reader:\n",
    "            if row['month'] == '1' and row['user_type'] == 'Subscriber':\n",
    "                total_trip_time[int(row['month'])-1] += float(row['duration'])\n",
    "                total_trip_time_subscribers[int(row['month'])-1] += float(row['duration'])\n",
    "                total_trip_count[int(row['month'])-1] += 1\n",
    "                total_trip_count_subscribers[int(row['month'])-1] += 1\n",
    "            elif row['month'] == '2' and row['user_type'] == 'Subscriber':\n",
    "                total_trip_time[int(row['month'])-1] += float(row['duration'])\n",
    "                total_trip_time_subscribers[int(row['month'])-1] += float(row['duration'])\n",
    "                total_trip_count[int(row['month'])-1] += 1\n",
    "                total_trip_count_subscribers[int(row['month'])-1] += 1\n",
    "            elif row['month'] == '3' and row['user_type'] == 'Subscriber':\n",
    "                total_trip_time[int(row['month'])-1] += float(row['duration'])\n",
    "                total_trip_time_subscribers[int(row['month'])-1] += float(row['duration'])\n",
    "                total_trip_count[int(row['month'])-1] += 1\n",
    "                total_trip_count_subscribers[int(row['month'])-1] += 1\n",
    "            elif row['month'] == '4' and row['user_type'] == 'Subscriber':\n",
    "                total_trip_time[int(row['month'])-1] += float(row['duration'])\n",
    "                total_trip_time_subscribers[int(row['month'])-1] += float(row['duration'])\n",
    "                total_trip_count[int(row['month'])-1] += 1\n",
    "                total_trip_count_subscribers[int(row['month'])-1] += 1\n",
    "            elif row['month'] == '5' and row['user_type'] == 'Subscriber':\n",
    "                total_trip_time[int(row['month'])-1] += float(row['duration'])\n",
    "                total_trip_time_subscribers[int(row['month'])-1] += float(row['duration'])\n",
    "                total_trip_count[int(row['month'])-1] += 1\n",
    "                total_trip_count_subscribers[int(row['month'])-1] += 1\n",
    "            elif row['month'] == '6' and row['user_type'] == 'Subscriber':\n",
    "                total_trip_time[int(row['month'])-1] += float(row['duration'])\n",
    "                total_trip_time_subscribers[int(row['month'])-1] += float(row['duration'])\n",
    "                total_trip_count[int(row['month'])-1] += 1\n",
    "                total_trip_count_subscribers[int(row['month'])-1] += 1\n",
    "            elif row['month'] == '7' and row['user_type'] == 'Subscriber':\n",
    "                total_trip_time[int(row['month'])-1] += float(row['duration'])\n",
    "                total_trip_time_subscribers[int(row['month'])-1] += float(row['duration'])\n",
    "                total_trip_count[int(row['month'])-1] += 1\n",
    "                total_trip_count_subscribers[int(row['month'])-1] += 1\n",
    "            elif row['month'] == '8' and row['user_type'] == 'Subscriber':\n",
    "                total_trip_time[int(row['month'])-1] += float(row['duration'])\n",
    "                total_trip_time_subscribers[int(row['month'])-1] += float(row['duration'])\n",
    "                total_trip_count[int(row['month'])-1] += 1\n",
    "                total_trip_count_subscribers[int(row['month'])-1] += 1\n",
    "            elif row['month'] == '9' and row['user_type'] == 'Subscriber':\n",
    "                total_trip_time[int(row['month'])-1] += float(row['duration'])\n",
    "                total_trip_time_subscribers[int(row['month'])-1] += float(row['duration'])\n",
    "                total_trip_count[int(row['month'])-1] += 1\n",
    "                total_trip_count_subscribers[int(row['month'])-1] += 1\n",
    "            elif row['month'] == '10' and row['user_type'] == 'Subscriber':\n",
    "                total_trip_time[int(row['month'])-1] += float(row['duration'])\n",
    "                total_trip_time_subscribers[int(row['month'])-1] += float(row['duration'])\n",
    "                total_trip_count[int(row['month'])-1] += 1\n",
    "                total_trip_count_subscribers[int(row['month'])-1] += 1\n",
    "            elif row['month'] == '11' and row['user_type'] == 'Subscriber':\n",
    "                total_trip_time[int(row['month'])-1] += float(row['duration'])\n",
    "                total_trip_time_subscribers[int(row['month'])-1] += float(row['duration'])\n",
    "                total_trip_count[int(row['month'])-1] += 1\n",
    "                total_trip_count_subscribers[int(row['month'])-1] += 1\n",
    "            elif row['month'] == '12' and row['user_type'] == 'Subscriber':\n",
    "                total_trip_time[int(row['month'])-1] += float(row['duration'])\n",
    "                total_trip_time_subscribers[int(row['month'])-1] += float(row['duration'])\n",
    "                total_trip_count[int(row['month'])-1] += 1\n",
    "                total_trip_count_subscribers[int(row['month'])-1] += 1\n",
    "            elif row['month'] == '1' and row['user_type'] == 'Customer':\n",
    "                total_trip_time[int(row['month'])-1] += float(row['duration'])\n",
    "                total_trip_time_customers[int(row['month'])-1] += float(row['duration'])\n",
    "                total_trip_count[int(row['month'])-1] += 1\n",
    "                total_trip_count_customers[int(row['month'])-1] += 1\n",
    "            elif row['month'] == '2' and row['user_type'] == 'Customer':\n",
    "                total_trip_time[int(row['month'])-1] += float(row['duration'])\n",
    "                total_trip_time_customers[int(row['month'])-1] += float(row['duration'])\n",
    "                total_trip_count[int(row['month'])-1] += 1\n",
    "                total_trip_count_customers[int(row['month'])-1] += 1\n",
    "            elif row['month'] == '3' and row['user_type'] == 'Customer':\n",
    "                total_trip_time[int(row['month'])-1] += float(row['duration'])\n",
    "                total_trip_time_customers[int(row['month'])-1] += float(row['duration'])\n",
    "                total_trip_count[int(row['month'])-1] += 1\n",
    "                total_trip_count_customers[int(row['month'])-1] += 1\n",
    "            elif row['month'] == '4' and row['user_type'] == 'Customer':\n",
    "                total_trip_time[int(row['month'])-1] += float(row['duration'])\n",
    "                total_trip_time_customers[int(row['month'])-1] += float(row['duration'])\n",
    "                total_trip_count[int(row['month'])-1] += 1\n",
    "                total_trip_count_customers[int(row['month'])-1] += 1\n",
    "            elif row['month'] == '5' and row['user_type'] == 'Customer':\n",
    "                total_trip_time[int(row['month'])-1] += float(row['duration'])\n",
    "                total_trip_time_customers[int(row['month'])-1] += float(row['duration'])\n",
    "                total_trip_count[int(row['month'])-1] += 1\n",
    "                total_trip_count_customers[int(row['month'])-1] += 1\n",
    "            elif row['month'] == '6' and row['user_type'] == 'Customer':\n",
    "                total_trip_time[int(row['month'])-1] += float(row['duration'])\n",
    "                total_trip_time_customers[int(row['month'])-1] += float(row['duration'])\n",
    "                total_trip_count[int(row['month'])-1] += 1\n",
    "                total_trip_count_customers[int(row['month'])-1] += 1\n",
    "            elif row['month'] == '7' and row['user_type'] == 'Customer':\n",
    "                total_trip_time[int(row['month'])-1] += float(row['duration'])\n",
    "                total_trip_time_customers[int(row['month'])-1] += float(row['duration'])\n",
    "                total_trip_count[int(row['month'])-1] += 1\n",
    "                total_trip_count_customers[int(row['month'])-1] += 1\n",
    "            elif row['month'] == '8' and row['user_type'] == 'Customer':\n",
    "                total_trip_time[int(row['month'])-1] += float(row['duration'])\n",
    "                total_trip_time_customers[int(row['month'])-1] += float(row['duration'])\n",
    "                total_trip_count[int(row['month'])-1] += 1\n",
    "                total_trip_count_customers[int(row['month'])-1] += 1\n",
    "            elif row['month'] == '9' and row['user_type'] == 'Customer':\n",
    "                total_trip_time[int(row['month'])-1] += float(row['duration'])\n",
    "                total_trip_time_customers[int(row['month'])-1] += float(row['duration'])\n",
    "                total_trip_count[int(row['month'])-1] += 1\n",
    "                total_trip_count_customers[int(row['month'])-1] += 1\n",
    "            elif row['month'] == '10' and row['user_type'] == 'Customer':\n",
    "                total_trip_time[int(row['month'])-1] += float(row['duration'])\n",
    "                total_trip_time_customers[int(row['month'])-1] += float(row['duration'])\n",
    "                total_trip_count[int(row['month'])-1] += 1\n",
    "                total_trip_count_customers[int(row['month'])-1] += 1\n",
    "            elif row['month'] == '11' and row['user_type'] == 'Customer':\n",
    "                total_trip_time[int(row['month'])-1] += float(row['duration'])\n",
    "                total_trip_time_customers[int(row['month'])-1] += float(float(row['duration']))\n",
    "                total_trip_count[int(row['month'])-1] += 1\n",
    "                total_trip_count_customers[int(row['month'])-1] += 1\n",
    "            elif row['month'] == '12' and row['user_type'] == 'Customer':\n",
    "                total_trip_time[int(row['month'])-1] += float(row['duration'])\n",
    "                total_trip_time_customers[int(row['month'])-1] += float(row['duration'])\n",
    "                total_trip_count[int(row['month'])-1] += 1\n",
    "                total_trip_count_customers[int(row['month'])-1] += 1\n",
    "                \n",
    "                \n",
    "        return(total_trip_time, total_trip_time_subscribers, total_trip_time_customers, \n",
    "              total_trip_count, total_trip_count_subscribers, total_trip_count_customers)\n",
    "              \"\"\"\n"
   ]
  },
  {
   "cell_type": "code",
   "execution_count": 22,
   "metadata": {},
   "outputs": [
    {
     "data": {
      "text/plain": [
       "'\\n# import library\\nimport matplotlib.pyplot as plt\\n%matplotlib inline \\n\\nimport time\\n\\nstart_time = time.time()\\n\\n# Use one data file and call the function.\\ndata_file = \\'./data/Washington-2016-Summary.csv\\'\\n\\noutput_ridership_by_month = ridership_by_month_if(data_file)\\ntotal_trip_time = output_ridership_by_month[0]\\ntotal_trip_time_subscribers = output_ridership_by_month[1]\\ntotal_trip_time_customers = output_ridership_by_month[2]\\ntotal_trip_count = output_ridership_by_month[3]\\ntotal_trip_count_subscribers = output_ridership_by_month[4]\\ntotal_trip_count_customers = output_ridership_by_month[5]\\n\\nmonths = range(1, 13)\\n\\nplt.bar(months, total_trip_time)\\nplt.xticks(months, (\\'jan\\', \\'feb\\', \\'mar\\', \\'apr\\', \\'may\\', \\'jun\\', \\'jul\\', \\n                   \\'aug\\', \\'sept\\', \\'oct\\', \\'nov\\', \\'dec\\'))\\nplt.title(\\'Monthly Total ride time\\')\\nplt.xlabel(\\'Month\\')\\nplt.ylabel(\\'Total Ride time in a month\\')\\nplt.show()\\n\\nplt.bar(months, total_trip_time_subscribers)\\nplt.xticks(months, (\\'jan\\', \\'feb\\', \\'mar\\', \\'apr\\', \\'may\\', \\'jun\\', \\'jul\\', \\n                   \\'aug\\', \\'sept\\', \\'oct\\', \\'nov\\', \\'dec\\'))\\nplt.title(\\'Monthly Total ride time of Subscribers\\')\\nplt.xlabel(\\'Month\\')\\nplt.ylabel(\\'Total Rides in a month for Subscribers\\')\\nplt.show()\\n\\nplt.bar(months, total_trip_time_customers)\\nplt.xticks(months, (\\'jan\\', \\'feb\\', \\'mar\\', \\'apr\\', \\'may\\', \\'jun\\', \\'jul\\', \\n                   \\'aug\\', \\'sept\\', \\'oct\\', \\'nov\\', \\'dec\\'))\\nplt.title(\\'Monthly Total ride time of Customers\\')\\nplt.xlabel(\\'Month\\')\\nplt.ylabel(\\'Total Rides in a month for Customers\\')\\nplt.show()\\n\\nprint(\"--- %s seconds ---\" % (time.time() - start_time))\\n'"
      ]
     },
     "execution_count": 22,
     "metadata": {},
     "output_type": "execute_result"
    }
   ],
   "source": [
    "# This is using function ridership_by_month_if()\n",
    "\"\"\"\n",
    "# import library\n",
    "import matplotlib.pyplot as plt\n",
    "%matplotlib inline \n",
    "\n",
    "import time\n",
    "\n",
    "start_time = time.time()\n",
    "\n",
    "# Use one data file and call the function.\n",
    "data_file = './data/Washington-2016-Summary.csv'\n",
    "\n",
    "output_ridership_by_month = ridership_by_month_if(data_file)\n",
    "total_trip_time = output_ridership_by_month[0]\n",
    "total_trip_time_subscribers = output_ridership_by_month[1]\n",
    "total_trip_time_customers = output_ridership_by_month[2]\n",
    "total_trip_count = output_ridership_by_month[3]\n",
    "total_trip_count_subscribers = output_ridership_by_month[4]\n",
    "total_trip_count_customers = output_ridership_by_month[5]\n",
    "\n",
    "months = range(1, 13)\n",
    "\n",
    "plt.bar(months, total_trip_time)\n",
    "plt.xticks(months, ('jan', 'feb', 'mar', 'apr', 'may', 'jun', 'jul', \n",
    "                   'aug', 'sept', 'oct', 'nov', 'dec'))\n",
    "plt.title('Monthly Total ride time')\n",
    "plt.xlabel('Month')\n",
    "plt.ylabel('Total Ride time in a month')\n",
    "plt.show()\n",
    "\n",
    "plt.bar(months, total_trip_time_subscribers)\n",
    "plt.xticks(months, ('jan', 'feb', 'mar', 'apr', 'may', 'jun', 'jul', \n",
    "                   'aug', 'sept', 'oct', 'nov', 'dec'))\n",
    "plt.title('Monthly Total ride time of Subscribers')\n",
    "plt.xlabel('Month')\n",
    "plt.ylabel('Total Rides in a month for Subscribers')\n",
    "plt.show()\n",
    "\n",
    "plt.bar(months, total_trip_time_customers)\n",
    "plt.xticks(months, ('jan', 'feb', 'mar', 'apr', 'may', 'jun', 'jul', \n",
    "                   'aug', 'sept', 'oct', 'nov', 'dec'))\n",
    "plt.title('Monthly Total ride time of Customers')\n",
    "plt.xlabel('Month')\n",
    "plt.ylabel('Total Rides in a month for Customers')\n",
    "plt.show()\n",
    "\n",
    "print(\"--- %s seconds ---\" % (time.time() - start_time))\n",
    "\"\"\""
   ]
  },
  {
   "cell_type": "code",
   "execution_count": 23,
   "metadata": {},
   "outputs": [],
   "source": [
    "# function to prepare data from dictionary for boxplot.\n",
    "\n",
    "def dict_to_boxplot_data(data_dictionary):\n",
    "    boxplot_data = []\n",
    "    for key in data_dictionary:\n",
    "        boxplot_data.append(data_dictionary[key])\n",
    "    return(boxplot_data)"
   ]
  },
  {
   "cell_type": "code",
   "execution_count": 24,
   "metadata": {},
   "outputs": [
    {
     "data": {
      "image/png": "[encoded data removed]",
      "text/plain": [
       "<Figure size 432x288 with 1 Axes>"
      ]
     },
     "metadata": {},
     "output_type": "display_data"
    },
    {
     "data": {
      "image/png": "[encoded data removed]",
      "text/plain": [
       "<Figure size 432x288 with 1 Axes>"
      ]
     },
     "metadata": {},
     "output_type": "display_data"
    },
    {
     "data": {
      "image/png": "[encoded data removed]",
      "text/plain": [
       "<Figure size 432x288 with 1 Axes>"
      ]
     },
     "metadata": {},
     "output_type": "display_data"
    },
    {
     "data": {
      "image/png": "[encoded data removed]",
      "text/plain": [
       "<Figure size 432x288 with 1 Axes>"
      ]
     },
     "metadata": {},
     "output_type": "display_data"
    },
    {
     "data": {
      "image/png": "[encoded data removed]",
      "text/plain": [
       "<Figure size 432x288 with 1 Axes>"
      ]
     },
     "metadata": {},
     "output_type": "display_data"
    },
    {
     "data": {
      "image/png": "[encoded data removed]",
      "text/plain": [
       "<Figure size 432x288 with 1 Axes>"
      ]
     },
     "metadata": {},
     "output_type": "display_data"
    },
    {
     "data": {
      "image/png": "[encoded data removed]",
      "text/plain": [
       "<Figure size 432x288 with 1 Axes>"
      ]
     },
     "metadata": {},
     "output_type": "display_data"
    }
   ],
   "source": [
    "\n",
    "\n",
    "# Use one data file and call the function.\n",
    "data_file = './data/Washington-2016-Summary.csv'\n",
    "output_ridership_by_month = ridership_by_month(data_file)\n",
    "\n",
    "# Saving the different output values to corresponding variables.\n",
    "total_trip_time = output_ridership_by_month[0]\n",
    "total_trip_time_subscribers = output_ridership_by_month[1]\n",
    "total_trip_time_customers = output_ridership_by_month[2]\n",
    "total_trip_count = output_ridership_by_month[3]\n",
    "total_trip_count_subscribers = output_ridership_by_month[4]\n",
    "total_trip_count_customers = output_ridership_by_month[5]\n",
    "trip_list_month_wise = output_ridership_by_month[6]\n",
    "\n",
    "# Create a variable months to hold different month numbers.\n",
    "months = range(1, 13)\n",
    "\n",
    "# Plotting total_trip_time vs months bar plot.\n",
    "plt.bar(months, total_trip_time)\n",
    "plt.plot(months, total_trip_time)\n",
    "plt.xticks(months, ('jan', 'feb', 'mar', 'apr', 'may', 'jun', 'jul', \n",
    "                   'aug', 'sept', 'oct', 'nov', 'dec'))\n",
    "plt.title('Monthly Total ride time')\n",
    "plt.xlabel('Month')\n",
    "plt.ylabel('Total Ride time in a month')\n",
    "plt.savefig(\"Monthly_ride_bar_line.png\")\n",
    "plt.show()\n",
    "\n",
    "# Plotting total_trip_time_subscribers vs months bar plot.\n",
    "plt.bar(months, total_trip_time_subscribers)\n",
    "plt.xticks(months, ('jan', 'feb', 'mar', 'apr', 'may', 'jun', 'jul', \n",
    "                   'aug', 'sept', 'oct', 'nov', 'dec'))\n",
    "plt.title('Monthly Total ride time of Subscribers')\n",
    "plt.xlabel('Month')\n",
    "plt.ylabel('Total Rides in a month for Subscribers')\n",
    "plt.savefig(\"total_ride_time_subscribers.png\")\n",
    "plt.show()\n",
    "\n",
    "# Plotting total_trip_time_customers vs months bar plot.\n",
    "plt.bar(months, total_trip_time_customers)\n",
    "plt.xticks(months, ('jan', 'feb', 'mar', 'apr', 'may', 'jun', 'jul', \n",
    "                   'aug', 'sept', 'oct', 'nov', 'dec'))\n",
    "plt.title('Monthly Total ride time of Customers')\n",
    "plt.xlabel('Month')\n",
    "plt.ylabel('Total Rides in a month for Customers')\n",
    "plt.savefig(\"total_ride_time_customers.png\")\n",
    "plt.show()\n",
    "\n",
    "# Creating proportion_subscribers and proportion_customers variable and putting value in them.\n",
    "proportion_subscribers = [0]*12\n",
    "proportion_customers = [0]*12\n",
    "\n",
    "for i in range(len(months)):\n",
    "    proportion_subscribers[i] = float(total_trip_count_subscribers[i])/total_trip_count[i]\n",
    "    proportion_customers[i] = float(total_trip_count_customers[i])/total_trip_count[i]\n",
    "\n",
    "\n",
    "# Plotting proportion_subscribers vs months bar plot\n",
    "plt.bar(months, proportion_subscribers)\n",
    "plt.xticks(months, ('jan', 'feb', 'mar', 'apr', 'may', 'jun', 'jul', \n",
    "                   'aug', 'sept', 'oct', 'nov', 'dec'))\n",
    "plt.title('Monthly Total proportion of subscribers trips')\n",
    "plt.xlabel('Month')\n",
    "plt.ylabel('Monthly Total proportion of subscribers trips')\n",
    "plt.savefig(\"Monthly_total_proportion_subscribers_trips.png\")\n",
    "plt.show()\n",
    "\n",
    "\n",
    "# Plotting proportion_customers vs months bar plot\n",
    "plt.bar(months, proportion_customers)\n",
    "plt.xticks(months, ('jan', 'feb', 'mar', 'apr', 'may', 'jun', 'jul', \n",
    "                   'aug', 'sept', 'oct', 'nov', 'dec'))\n",
    "plt.title('Monthly Total proportion of customers trips')\n",
    "plt.xlabel('Month')\n",
    "plt.ylabel('Monthly Total proportion of customers trips')\n",
    "plt.savefig(\"Monthly_total_proportion_customers_trips.png\")\n",
    "plt.show()\n",
    "\n",
    "# Plotting total_trip_count vs months bar plot.\n",
    "plt.bar(months, total_trip_count)\n",
    "plt.xticks(months, ('jan', 'feb', 'mar', 'apr', 'may', 'jun', 'jul', \n",
    "                   'aug', 'sept', 'oct', 'nov', 'dec'))\n",
    "plt.title('Monthly Total trip count')\n",
    "plt.xlabel('Month')\n",
    "plt.ylabel('Monthly total trip count')\n",
    "plt.savefig(\"Monthly_total_trips_count.png\")\n",
    "plt.show()\n",
    "\n",
    "# Plotting total_trip_time vs months line plot.\n",
    "plt.plot(months, total_trip_time)\n",
    "plt.xticks(months, ('jan', 'feb', 'mar', 'apr', 'may', 'jun', 'jul', \n",
    "                   'aug', 'sept', 'oct', 'nov', 'dec'))\n",
    "plt.title('Monthly Total ride time')\n",
    "plt.xlabel('Month')\n",
    "plt.ylabel('Total Ride time in a month')\n",
    "plt.savefig(\"Monthly_total_ride_time.png\")\n",
    "plt.show()\n"
   ]
  },
  {
   "cell_type": "code",
   "execution_count": 25,
   "metadata": {},
   "outputs": [
    {
     "data": {
      "image/png": "[encoded data removed]",
      "text/plain": [
       "<Figure size 432x288 with 1 Axes>"
      ]
     },
     "metadata": {},
     "output_type": "display_data"
    },
    {
     "data": {
      "image/png": "[encoded data removed]",
      "text/plain": [
       "<Figure size 432x288 with 1 Axes>"
      ]
     },
     "metadata": {},
     "output_type": "display_data"
    }
   ],
   "source": [
    "# To plot boxplot for total trip month wise\n",
    "# import library\n",
    "import matplotlib.pyplot as plt\n",
    "%matplotlib inline \n",
    "\n",
    "boxplot_data = dict_to_boxplot_data(trip_list_month_wise)\n",
    "#print(boxplot_data)\n",
    "plt.boxplot(boxplot_data)\n",
    "plt.xticks(months, ('jan', 'feb', 'mar', 'apr', 'may', 'jun', 'jul', \n",
    "                   'aug', 'sept', 'oct', 'nov', 'dec'))\n",
    "plt.title('Box plot for trips month wise')\n",
    "plt.xlabel('Month')\n",
    "plt.ylabel('Trip duration')\n",
    "plt.savefig(\"box_plot.png\")\n",
    "plt.show()\n",
    "\n",
    "#Plot with y axis limit to 0 to 50.\n",
    "plt.boxplot(boxplot_data)\n",
    "plt.xticks(months, ('jan', 'feb', 'mar', 'apr', 'may', 'jun', 'jul', \n",
    "                   'aug', 'sept', 'oct', 'nov', 'dec'))\n",
    "plt.title('Box plot for trips month wise with y axis limit of 0, 50')\n",
    "plt.xlabel('Month')\n",
    "plt.ylabel('Trip duration')\n",
    "plt.ylim(0, 50)\n",
    "plt.savefig(\"box_plot_ylim_50.png\")\n",
    "plt.show()\n"
   ]
  },
  {
   "cell_type": "markdown",
   "metadata": {},
   "source": [
    "<a id='conclusions'></a>\n",
    "## Conclusions\n",
    "\n",
    "Congratulations on completing the project! This is only a sampling of the data analysis process: from generating questions, wrangling the data, and to exploring the data. Normally, at this point in the data analysis process, you might want to draw conclusions about the data by performing a statistical test or fitting the data to a model for making predictions. There are also a lot of potential analyses that could be performed on the data which are not possible with only the data provided. For example, detailed location data has not been investigated. Where are the most commonly used docks? What are the most common routes? As another example, weather has potential to have a large impact on daily ridership. How much is ridership impacted when there is rain or snow? Are subscribers or customers affected more by changes in weather?\n",
    "\n",
    "**Question 7**: Putting the bike share data aside, think of a topic or field of interest where you would like to be able to apply the techniques of data science. What would you like to be able to learn from your chosen subject?\n",
    "\n",
    "**Answer**: \n",
    "I want to use data science technique to help in financial data anlysis and various other fields like sales maximization, fraud/anomaly detection and then move towards model building and artificial intelligence field.\n",
    "\n",
    "> **Tip**: If we want to share the results of our analysis with others, we aren't limited to giving them a copy of the jupyter Notebook (.ipynb) file. We can also export the Notebook output in a form that can be opened even for those without Python installed. From the **File** menu in the upper left, go to the **Download as** submenu. You can then choose a different format that can be viewed more generally, such as HTML (.html) or\n",
    "PDF (.pdf). You may need additional packages or software to perform these exports.\n",
    "\n",
    "> If you are working on this project via the Project Notebook page in the classroom, you can also submit this project directly from the workspace. **Before you do that**, you should save an HTML copy of the completed project to the workspace by running the code cell below. If it worked correctly, the output code should be a 0, and if you click on the jupyter icon in the upper left, you should see your .html document in the workspace directory. Alternatively, you can download the .html copy of your report following the steps in the previous paragraph, then _upload_ the report to the directory (by clicking the jupyter icon).\n",
    "\n",
    "> Either way, once you've gotten the .html report in your workspace, you can complete your submission by clicking on the \"Submit Project\" button to the lower-right hand side of the workspace."
   ]
  },
  {
   "cell_type": "code",
   "execution_count": 26,
   "metadata": {},
   "outputs": [
    {
     "data": {
      "text/plain": [
       "0"
      ]
     },
     "execution_count": 26,
     "metadata": {},
     "output_type": "execute_result"
    }
   ],
   "source": [
    "from subprocess import call\n",
    "call(['python', '-m', 'nbconvert', 'Bike_Share_Analysis.ipynb'])"
   ]
  },
  {
   "cell_type": "code",
   "execution_count": null,
   "metadata": {},
   "outputs": [],
   "source": []
  }
 ],
 "metadata": {
  "anaconda-cloud": {},
  "kernelspec": {
   "display_name": "Python 2",
   "language": "python",
   "name": "python2"
  },
  "language_info": {
   "codemirror_mode": {
    "name": "ipython",
    "version": 2
   },
   "file_extension": ".py",
   "mimetype": "text/x-python",
   "name": "python",
   "nbconvert_exporter": "python",
   "pygments_lexer": "ipython2",
   "version": "2.7.14"
  }
 },
 "nbformat": 4,
 "nbformat_minor": 1
}
